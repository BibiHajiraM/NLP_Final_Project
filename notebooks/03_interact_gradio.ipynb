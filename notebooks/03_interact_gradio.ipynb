{
 "cells": [
  {
   "cell_type": "code",
   "execution_count": 1,
   "metadata": {},
   "outputs": [
    {
     "name": "stdout",
     "output_type": "stream",
     "text": [
      "Requirement already satisfied: gradio in /Users/mohammedfurqanrahamath/miniconda3/envs/nlp_class_38/lib/python3.8/site-packages (2.9.4)\n",
      "Requirement already satisfied: fastapi in /Users/mohammedfurqanrahamath/miniconda3/envs/nlp_class_38/lib/python3.8/site-packages (from gradio) (0.75.2)\n",
      "Requirement already satisfied: markdown-it-py[linkify,plugins] in /Users/mohammedfurqanrahamath/miniconda3/envs/nlp_class_38/lib/python3.8/site-packages (from gradio) (2.1.0)\n",
      "Requirement already satisfied: aiohttp in /Users/mohammedfurqanrahamath/miniconda3/envs/nlp_class_38/lib/python3.8/site-packages (from gradio) (3.8.1)\n",
      "Requirement already satisfied: analytics-python in /Users/mohammedfurqanrahamath/miniconda3/envs/nlp_class_38/lib/python3.8/site-packages (from gradio) (1.4.0)\n",
      "Requirement already satisfied: pandas in /Users/mohammedfurqanrahamath/miniconda3/envs/nlp_class_38/lib/python3.8/site-packages (from gradio) (1.4.1)\n",
      "Requirement already satisfied: matplotlib in /Users/mohammedfurqanrahamath/miniconda3/envs/nlp_class_38/lib/python3.8/site-packages (from gradio) (3.5.1)\n",
      "Requirement already satisfied: python-multipart in /Users/mohammedfurqanrahamath/miniconda3/envs/nlp_class_38/lib/python3.8/site-packages (from gradio) (0.0.5)\n",
      "Requirement already satisfied: uvicorn in /Users/mohammedfurqanrahamath/miniconda3/envs/nlp_class_38/lib/python3.8/site-packages (from gradio) (0.17.6)\n",
      "Requirement already satisfied: Jinja2 in /Users/mohammedfurqanrahamath/miniconda3/envs/nlp_class_38/lib/python3.8/site-packages (from gradio) (3.0.2)\n",
      "Requirement already satisfied: requests in /Users/mohammedfurqanrahamath/miniconda3/envs/nlp_class_38/lib/python3.8/site-packages (from gradio) (2.27.1)\n",
      "Requirement already satisfied: ffmpy in /Users/mohammedfurqanrahamath/miniconda3/envs/nlp_class_38/lib/python3.8/site-packages (from gradio) (0.3.0)\n",
      "Requirement already satisfied: orjson in /Users/mohammedfurqanrahamath/miniconda3/envs/nlp_class_38/lib/python3.8/site-packages (from gradio) (3.6.8)\n",
      "Requirement already satisfied: paramiko in /Users/mohammedfurqanrahamath/miniconda3/envs/nlp_class_38/lib/python3.8/site-packages (from gradio) (2.10.4)\n",
      "Requirement already satisfied: pycryptodome in /Users/mohammedfurqanrahamath/miniconda3/envs/nlp_class_38/lib/python3.8/site-packages (from gradio) (3.14.1)\n",
      "Requirement already satisfied: pydub in /Users/mohammedfurqanrahamath/miniconda3/envs/nlp_class_38/lib/python3.8/site-packages (from gradio) (0.25.1)\n",
      "Requirement already satisfied: numpy in /Users/mohammedfurqanrahamath/miniconda3/envs/nlp_class_38/lib/python3.8/site-packages (from gradio) (1.22.2)\n",
      "Requirement already satisfied: pillow in /Users/mohammedfurqanrahamath/miniconda3/envs/nlp_class_38/lib/python3.8/site-packages (from gradio) (9.0.1)\n",
      "Requirement already satisfied: attrs>=17.3.0 in /Users/mohammedfurqanrahamath/miniconda3/envs/nlp_class_38/lib/python3.8/site-packages (from aiohttp->gradio) (21.4.0)\n",
      "Requirement already satisfied: charset-normalizer<3.0,>=2.0 in /Users/mohammedfurqanrahamath/miniconda3/envs/nlp_class_38/lib/python3.8/site-packages (from aiohttp->gradio) (2.0.12)\n",
      "Requirement already satisfied: frozenlist>=1.1.1 in /Users/mohammedfurqanrahamath/miniconda3/envs/nlp_class_38/lib/python3.8/site-packages (from aiohttp->gradio) (1.3.0)\n",
      "Requirement already satisfied: async-timeout<5.0,>=4.0.0a3 in /Users/mohammedfurqanrahamath/miniconda3/envs/nlp_class_38/lib/python3.8/site-packages (from aiohttp->gradio) (4.0.2)\n",
      "Requirement already satisfied: multidict<7.0,>=4.5 in /Users/mohammedfurqanrahamath/miniconda3/envs/nlp_class_38/lib/python3.8/site-packages (from aiohttp->gradio) (6.0.2)\n",
      "Requirement already satisfied: yarl<2.0,>=1.0 in /Users/mohammedfurqanrahamath/miniconda3/envs/nlp_class_38/lib/python3.8/site-packages (from aiohttp->gradio) (1.7.2)\n",
      "Requirement already satisfied: aiosignal>=1.1.2 in /Users/mohammedfurqanrahamath/miniconda3/envs/nlp_class_38/lib/python3.8/site-packages (from aiohttp->gradio) (1.2.0)\n",
      "Requirement already satisfied: idna>=2.0 in /Users/mohammedfurqanrahamath/miniconda3/envs/nlp_class_38/lib/python3.8/site-packages (from yarl<2.0,>=1.0->aiohttp->gradio) (3.3)\n",
      "Requirement already satisfied: monotonic>=1.5 in /Users/mohammedfurqanrahamath/miniconda3/envs/nlp_class_38/lib/python3.8/site-packages (from analytics-python->gradio) (1.6)\n",
      "Requirement already satisfied: python-dateutil>2.1 in /Users/mohammedfurqanrahamath/miniconda3/envs/nlp_class_38/lib/python3.8/site-packages (from analytics-python->gradio) (2.8.2)\n",
      "Requirement already satisfied: backoff==1.10.0 in /Users/mohammedfurqanrahamath/miniconda3/envs/nlp_class_38/lib/python3.8/site-packages (from analytics-python->gradio) (1.10.0)\n",
      "Requirement already satisfied: six>=1.5 in /Users/mohammedfurqanrahamath/miniconda3/envs/nlp_class_38/lib/python3.8/site-packages (from analytics-python->gradio) (1.16.0)\n",
      "Requirement already satisfied: urllib3<1.27,>=1.21.1 in /Users/mohammedfurqanrahamath/miniconda3/envs/nlp_class_38/lib/python3.8/site-packages (from requests->gradio) (1.26.8)\n",
      "Requirement already satisfied: certifi>=2017.4.17 in /Users/mohammedfurqanrahamath/miniconda3/envs/nlp_class_38/lib/python3.8/site-packages (from requests->gradio) (2021.10.8)\n",
      "Requirement already satisfied: starlette==0.17.1 in /Users/mohammedfurqanrahamath/miniconda3/envs/nlp_class_38/lib/python3.8/site-packages (from fastapi->gradio) (0.17.1)\n",
      "Requirement already satisfied: pydantic!=1.7,!=1.7.1,!=1.7.2,!=1.7.3,!=1.8,!=1.8.1,<2.0.0,>=1.6.2 in /Users/mohammedfurqanrahamath/miniconda3/envs/nlp_class_38/lib/python3.8/site-packages (from fastapi->gradio) (1.9.0)\n",
      "Requirement already satisfied: anyio<4,>=3.0.0 in /Users/mohammedfurqanrahamath/miniconda3/envs/nlp_class_38/lib/python3.8/site-packages (from starlette==0.17.1->fastapi->gradio) (3.5.0)\n",
      "Requirement already satisfied: sniffio>=1.1 in /Users/mohammedfurqanrahamath/miniconda3/envs/nlp_class_38/lib/python3.8/site-packages (from anyio<4,>=3.0.0->starlette==0.17.1->fastapi->gradio) (1.2.0)\n",
      "Requirement already satisfied: typing-extensions>=3.7.4.3 in /Users/mohammedfurqanrahamath/miniconda3/envs/nlp_class_38/lib/python3.8/site-packages (from pydantic!=1.7,!=1.7.1,!=1.7.2,!=1.7.3,!=1.8,!=1.8.1,<2.0.0,>=1.6.2->fastapi->gradio) (4.1.1)\n",
      "Requirement already satisfied: MarkupSafe>=2.0 in /Users/mohammedfurqanrahamath/miniconda3/envs/nlp_class_38/lib/python3.8/site-packages (from Jinja2->gradio) (2.0.1)\n",
      "Requirement already satisfied: mdurl~=0.1 in /Users/mohammedfurqanrahamath/miniconda3/envs/nlp_class_38/lib/python3.8/site-packages (from markdown-it-py[linkify,plugins]->gradio) (0.1.1)\n",
      "Requirement already satisfied: linkify-it-py~=1.0 in /Users/mohammedfurqanrahamath/miniconda3/envs/nlp_class_38/lib/python3.8/site-packages (from markdown-it-py[linkify,plugins]->gradio) (1.0.3)\n",
      "Requirement already satisfied: mdit-py-plugins in /Users/mohammedfurqanrahamath/miniconda3/envs/nlp_class_38/lib/python3.8/site-packages (from markdown-it-py[linkify,plugins]->gradio) (0.3.0)\n",
      "Requirement already satisfied: uc-micro-py in /Users/mohammedfurqanrahamath/miniconda3/envs/nlp_class_38/lib/python3.8/site-packages (from linkify-it-py~=1.0->markdown-it-py[linkify,plugins]->gradio) (1.0.1)\n",
      "Requirement already satisfied: pyparsing>=2.2.1 in /Users/mohammedfurqanrahamath/miniconda3/envs/nlp_class_38/lib/python3.8/site-packages (from matplotlib->gradio) (3.0.7)\n",
      "Requirement already satisfied: packaging>=20.0 in /Users/mohammedfurqanrahamath/miniconda3/envs/nlp_class_38/lib/python3.8/site-packages (from matplotlib->gradio) (21.3)\n",
      "Requirement already satisfied: kiwisolver>=1.0.1 in /Users/mohammedfurqanrahamath/miniconda3/envs/nlp_class_38/lib/python3.8/site-packages (from matplotlib->gradio) (1.3.2)\n",
      "Requirement already satisfied: fonttools>=4.22.0 in /Users/mohammedfurqanrahamath/miniconda3/envs/nlp_class_38/lib/python3.8/site-packages (from matplotlib->gradio) (4.29.1)\n",
      "Requirement already satisfied: cycler>=0.10 in /Users/mohammedfurqanrahamath/miniconda3/envs/nlp_class_38/lib/python3.8/site-packages (from matplotlib->gradio) (0.11.0)\n",
      "Requirement already satisfied: pytz>=2020.1 in /Users/mohammedfurqanrahamath/miniconda3/envs/nlp_class_38/lib/python3.8/site-packages (from pandas->gradio) (2021.3)\n",
      "Requirement already satisfied: bcrypt>=3.1.3 in /Users/mohammedfurqanrahamath/miniconda3/envs/nlp_class_38/lib/python3.8/site-packages (from paramiko->gradio) (3.2.2)\n",
      "Requirement already satisfied: cryptography>=2.5 in /Users/mohammedfurqanrahamath/miniconda3/envs/nlp_class_38/lib/python3.8/site-packages (from paramiko->gradio) (36.0.0)\n",
      "Requirement already satisfied: pynacl>=1.0.1 in /Users/mohammedfurqanrahamath/miniconda3/envs/nlp_class_38/lib/python3.8/site-packages (from paramiko->gradio) (1.5.0)\n"
     ]
    },
    {
     "name": "stdout",
     "output_type": "stream",
     "text": [
      "Requirement already satisfied: cffi>=1.1 in /Users/mohammedfurqanrahamath/miniconda3/envs/nlp_class_38/lib/python3.8/site-packages (from bcrypt>=3.1.3->paramiko->gradio) (1.15.0)\n",
      "Requirement already satisfied: pycparser in /Users/mohammedfurqanrahamath/miniconda3/envs/nlp_class_38/lib/python3.8/site-packages (from cffi>=1.1->bcrypt>=3.1.3->paramiko->gradio) (2.21)\n",
      "Requirement already satisfied: asgiref>=3.4.0 in /Users/mohammedfurqanrahamath/miniconda3/envs/nlp_class_38/lib/python3.8/site-packages (from uvicorn->gradio) (3.5.1)\n",
      "Requirement already satisfied: h11>=0.8 in /Users/mohammedfurqanrahamath/miniconda3/envs/nlp_class_38/lib/python3.8/site-packages (from uvicorn->gradio) (0.13.0)\n",
      "Requirement already satisfied: click>=7.0 in /Users/mohammedfurqanrahamath/miniconda3/envs/nlp_class_38/lib/python3.8/site-packages (from uvicorn->gradio) (8.0.4)\n",
      "Note: you may need to restart the kernel to use updated packages.\n"
     ]
    }
   ],
   "source": [
    "%pip install gradio"
   ]
  },
  {
   "cell_type": "code",
   "execution_count": 2,
   "metadata": {},
   "outputs": [],
   "source": [
    "import gradio as gr\n",
    "import joblib\n",
    "import re\n",
    "import warnings\n",
    "\n",
    "\n",
    "warnings.filterwarnings(\"ignore\")"
   ]
  },
  {
   "cell_type": "code",
   "execution_count": 3,
   "metadata": {},
   "outputs": [],
   "source": [
    "from transformers import PreTrainedTokenizerFast, RobertaTokenizer, T5ForConditionalGeneration\n",
    "from transformer_mt.modeling_transformer import TransfomerEncoderDecoderModel"
   ]
  },
  {
   "cell_type": "code",
   "execution_count": 4,
   "metadata": {},
   "outputs": [],
   "source": [
    "# You probably need to modify the paths to your tokenizers\n",
    "# For tokenizers, you need to provide the path to a directory that contains the tokenizer.json file\n",
    "# For model, you need to provide the path to a directory that contains the model.pt file\n",
    "\n",
    "source_tokenizer = PreTrainedTokenizerFast.from_pretrained(\"../cli/tokenizer/english_tokenizer\")\n",
    "target_tokenizer = RobertaTokenizer.from_pretrained('../cli/tokenizer/sql_tokenizer')\n",
    "\n",
    "model = T5ForConditionalGeneration.from_pretrained(\"../cli/tokenizer\")\n",
    "model.eval();"
   ]
  },
  {
   "cell_type": "markdown",
   "metadata": {},
   "source": [
    "## Task\n",
    "\n",
    "Try out your model. Feel free to use your own sentences and to compare the model outputs to Google Translate.\n",
    "Find at least three sentences that are translated well, and one that is translated badly.\n",
    "\n",
    "Feel free to change beam size and max_length parameters."
   ]
  },
  {
   "cell_type": "code",
   "execution_count": 5,
   "metadata": {},
   "outputs": [],
   "source": [
    "# Samples: \n",
    "# How many likes correspond to each student id?\n",
    "def generate_sql(question):\n",
    "    global source_tokenizer\n",
    "    global target_tokenizer\n",
    "    input_ids = source_tokenizer.encode(question, return_tensors=\"pt\")\n",
    "    output_ids = model.generate(\n",
    "        input_ids,\n",
    "        max_length=30,\n",
    "        bos_token_id=target_tokenizer.bos_token_id,\n",
    "        eos_token_id=target_tokenizer.eos_token_id,\n",
    "        pad_token_id=target_tokenizer.pad_token_id,\n",
    "    )\n",
    "    return target_tokenizer.decode(output_ids[0])"
   ]
  },
  {
   "cell_type": "markdown",
   "metadata": {},
   "source": [
    "## Interface"
   ]
  },
  {
   "cell_type": "code",
   "execution_count": 6,
   "metadata": {},
   "outputs": [],
   "source": [
    "# Define Gradio interface\n",
    "gradio_ui = gr.Interface(\n",
    "    fn=generate_sql,\n",
    "    title=\"Generate SQL query\",\n",
    "    description=\"Enter a sample english question to generate a corresponding SQL query\",\n",
    "    inputs=gr.inputs.Textbox(lines=10, label=\"Type your question here\"),\n",
    "    outputs=gr.outputs.Textbox(label=\"SQL Query\"),\n",
    ")"
   ]
  },
  {
   "cell_type": "code",
   "execution_count": 7,
   "metadata": {
    "scrolled": true
   },
   "outputs": [
    {
     "name": "stdout",
     "output_type": "stream",
     "text": [
      "Running on local URL:  http://127.0.0.1:7860/\n",
      "Running on public URL: https://31235.gradio.app\n",
      "\n",
      "This share link expires in 72 hours. For free permanent hosting, check out Spaces (https://huggingface.co/spaces)\n"
     ]
    },
    {
     "data": {
      "text/html": [
       "\n",
       "        <iframe\n",
       "            width=\"900\"\n",
       "            height=\"500\"\n",
       "            src=\"https://31235.gradio.app\"\n",
       "            frameborder=\"0\"\n",
       "            allowfullscreen\n",
       "            \n",
       "        ></iframe>\n",
       "        "
      ],
      "text/plain": [
       "<IPython.lib.display.IFrame at 0x14f1301c0>"
      ]
     },
     "metadata": {},
     "output_type": "display_data"
    },
    {
     "data": {
      "text/plain": [
       "(<fastapi.applications.FastAPI at 0x1093e0a00>,\n",
       " 'http://127.0.0.1:7860/',\n",
       " 'https://31235.gradio.app')"
      ]
     },
     "execution_count": 7,
     "metadata": {},
     "output_type": "execute_result"
    },
    {
     "name": "stderr",
     "output_type": "stream",
     "text": [
      "Traceback (most recent call last):\n",
      "  File \"/Users/mohammedfurqanrahamath/miniconda3/envs/nlp_class_38/lib/python3.8/site-packages/gradio/routes.py\", line 269, in predict\n",
      "    output = await run_in_threadpool(app.launchable.process_api, body, username)\n",
      "  File \"/Users/mohammedfurqanrahamath/miniconda3/envs/nlp_class_38/lib/python3.8/site-packages/starlette/concurrency.py\", line 39, in run_in_threadpool\n",
      "    return await anyio.to_thread.run_sync(func, *args)\n",
      "  File \"/Users/mohammedfurqanrahamath/miniconda3/envs/nlp_class_38/lib/python3.8/site-packages/anyio/to_thread.py\", line 28, in run_sync\n",
      "    return await get_asynclib().run_sync_in_worker_thread(func, *args, cancellable=cancellable,\n",
      "  File \"/Users/mohammedfurqanrahamath/miniconda3/envs/nlp_class_38/lib/python3.8/site-packages/anyio/_backends/_asyncio.py\", line 818, in run_sync_in_worker_thread\n",
      "    return await future\n",
      "  File \"/Users/mohammedfurqanrahamath/miniconda3/envs/nlp_class_38/lib/python3.8/site-packages/anyio/_backends/_asyncio.py\", line 754, in run\n",
      "    result = context.run(func, *args)\n",
      "  File \"/Users/mohammedfurqanrahamath/miniconda3/envs/nlp_class_38/lib/python3.8/site-packages/gradio/interface.py\", line 573, in process_api\n",
      "    prediction, durations = self.process(raw_input)\n",
      "  File \"/Users/mohammedfurqanrahamath/miniconda3/envs/nlp_class_38/lib/python3.8/site-packages/gradio/interface.py\", line 615, in process\n",
      "    predictions, durations = self.run_prediction(\n",
      "  File \"/Users/mohammedfurqanrahamath/miniconda3/envs/nlp_class_38/lib/python3.8/site-packages/gradio/interface.py\", line 531, in run_prediction\n",
      "    prediction = predict_fn(*processed_input)\n",
      "  File \"/var/folders/q5/cb6v68z163g2xd3h75m23bsh0000gn/T/ipykernel_22070/2365681530.py\", line 7, in generate_sql\n",
      "    output_ids = model.generate(\n",
      "  File \"/Users/mohammedfurqanrahamath/miniconda3/envs/nlp_class_38/lib/python3.8/site-packages/torch/autograd/grad_mode.py\", line 28, in decorate_context\n",
      "    return func(*args, **kwargs)\n",
      "  File \"/Users/mohammedfurqanrahamath/miniconda3/envs/nlp_class_38/lib/python3.8/site-packages/transformers/generation_utils.py\", line 1088, in generate\n",
      "    model_kwargs = self._prepare_encoder_decoder_kwargs_for_generation(\n",
      "  File \"/Users/mohammedfurqanrahamath/miniconda3/envs/nlp_class_38/lib/python3.8/site-packages/transformers/generation_utils.py\", line 507, in _prepare_encoder_decoder_kwargs_for_generation\n",
      "    model_kwargs[\"encoder_outputs\"]: ModelOutput = encoder(**encoder_kwargs)\n",
      "  File \"/Users/mohammedfurqanrahamath/miniconda3/envs/nlp_class_38/lib/python3.8/site-packages/torch/nn/modules/module.py\", line 1102, in _call_impl\n",
      "    return forward_call(*input, **kwargs)\n",
      "  File \"/Users/mohammedfurqanrahamath/miniconda3/envs/nlp_class_38/lib/python3.8/site-packages/transformers/models/t5/modeling_t5.py\", line 903, in forward\n",
      "    input_ids = input_ids.view(-1, input_shape[-1])\n",
      "RuntimeError: cannot reshape tensor of 0 elements into shape [-1, 0] because the unspecified dimension size -1 can be any value and is ambiguous\n"
     ]
    }
   ],
   "source": [
    "gradio_ui.launch(share=True)\n",
    "# gradio_ui.launch()"
   ]
  },
  {
   "cell_type": "code",
   "execution_count": null,
   "metadata": {},
   "outputs": [],
   "source": []
  }
 ],
 "metadata": {
  "interpreter": {
   "hash": "f86d5ac646110a331c60478f9400a1a64d0cd523be90d887457228f9723636b5"
  },
  "kernelspec": {
   "display_name": "Python 3 (ipykernel)",
   "language": "python",
   "name": "python3"
  },
  "language_info": {
   "codemirror_mode": {
    "name": "ipython",
    "version": 3
   },
   "file_extension": ".py",
   "mimetype": "text/x-python",
   "name": "python",
   "nbconvert_exporter": "python",
   "pygments_lexer": "ipython3",
   "version": "3.8.11"
  }
 },
 "nbformat": 4,
 "nbformat_minor": 2
}
